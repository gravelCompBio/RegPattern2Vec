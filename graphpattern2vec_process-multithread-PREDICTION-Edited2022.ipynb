{
 "cells": [
  {
   "cell_type": "markdown",
   "metadata": {},
   "source": [
    "\n"
   ]
  },
  {
   "cell_type": "markdown",
   "metadata": {},
   "source": [
    "### To make prediction:\n",
    "  - We will use **graphpattern2vec_process-multithread-PREDICTION-Edited2022** notebook\n",
    "    - All the cells should be run until **Link Prediction**.\n",
    "    - Stop using the notebook, and manually run the metapath2vec to generate walk files.\n",
    "    - Run all the cells after **Link Prediction** until *prediction*\n",
    "      - Do not use the figures generated in this step for rvaluation purposes.\n",
    "    - To make prediction run all remaining steps."
   ]
  },
  {
   "cell_type": "code",
   "execution_count": 22,
   "metadata": {},
   "outputs": [],
   "source": [
    "from graphpattern2vec import split_data as sp\n",
    "from graphpattern2vec import biased_walk_multiprocess as BWMP\n",
    "# from graphpattern2vec import check_walks as CW\n",
    "from graphpattern2vec import CheckWalks as CW\n",
    "from graphpattern2vec import link_prediction as LP"
   ]
  },
  {
   "cell_type": "markdown",
   "metadata": {},
   "source": [
    "## Initialization"
   ]
  },
  {
   "cell_type": "code",
   "execution_count": 23,
   "metadata": {},
   "outputs": [],
   "source": [
    "data_path = 'data/'\n",
    "main_edge_file = 'df_edges.csv'\n",
    "relation_to_predict = 'hasPathway'\n",
    "train_file = 'df_edges.csv'\n",
    "\n",
    "node_file = 'df_node.csv'\n",
    "relation_file = 'df_relation.csv'\n",
    "type_file = 'df_type.csv'\n",
    "test_file = ''\n",
    "\n",
    "result_path = 'results/'\n",
    "\n",
    "source_types = ['Protein', 'LightKinase', 'DarkKinase']\n",
    "target_types = ['Pathway']"
   ]
  },
  {
   "cell_type": "markdown",
   "metadata": {},
   "source": [
    "### Walks"
   ]
  },
  {
   "cell_type": "markdown",
   "metadata": {},
   "source": [
    "#### Types\n",
    "- 0,Protein\n",
    "- 1,Pathway\n",
    "- 2,LightKinase\n",
    "- 3,DarkKinase\n",
    "\n",
    "- 4,PTM\n",
    "- 5,FunctionalDomain\n",
    "- 6,BiologicalProcess\n",
    "- 7,MolecularFunction\n",
    "- 8,CellularComponent\n",
    "- 9,Chemical\n",
    "- 10,Disease"
   ]
  },
  {
   "cell_type": "code",
   "execution_count": 24,
   "metadata": {},
   "outputs": [
    {
     "data": {
      "text/plain": [
       "<module 'graphpattern2vec.biased_walk_multiprocess' from '/hdd/BigIronOnHisHip/r2v/newRegpatterin/RegPattern2Vec_project-main/notebooks/graphpattern2vec/biased_walk_multiprocess.py'>"
      ]
     },
     "execution_count": 24,
     "metadata": {},
     "output_type": "execute_result"
    }
   ],
   "source": [
    "import imp\n",
    "imp.reload(BWMP)"
   ]
  },
  {
   "cell_type": "code",
   "execution_count": 25,
   "metadata": {},
   "outputs": [
    {
     "data": {
      "text/plain": [
       "[{0: 1, 2: 1, 3: 1},\n",
       " {0: 1, 2: 1, 3: 1, 4: 1, 5: 1, 6: 1, 7: 1, 8: 1, 9: 1, 10: 1},\n",
       " {0: 1, 2: 1, 3: 1},\n",
       " {1: 1}]"
      ]
     },
     "execution_count": 25,
     "metadata": {},
     "output_type": "execute_result"
    }
   ],
   "source": [
    "graph_pattern = [{0:1,2:1,3:1}, {0:1, 2:1, 3:1, 4:1,5:1, 6:1, 7:1, 8:1, 9:1, 10:1}, {0:1,2:1,3:1}, {1:1}]\n",
    "graph_pattern"
   ]
  },
  {
   "cell_type": "code",
   "execution_count": 26,
   "metadata": {},
   "outputs": [
    {
     "name": "stdout",
     "output_type": "stream",
     "text": [
      "loading data ...\n",
      "df_train: (6279373, 5)\n",
      "based on graphpattern df_train_sel: (6279373, 5), set_sel_types: 11\n"
     ]
    },
    {
     "ename": "KeyboardInterrupt",
     "evalue": "",
     "output_type": "error",
     "traceback": [
      "\u001b[0;31m---------------------------------------------------------------------------\u001b[0m",
      "\u001b[0;31mKeyboardInterrupt\u001b[0m                         Traceback (most recent call last)",
      "    \u001b[0;31m[... skipping hidden 1 frame]\u001b[0m\n",
      "\u001b[0;32m<ipython-input-26-5dee829fc658>\u001b[0m in \u001b[0;36m<module>\u001b[0;34m\u001b[0m\n\u001b[1;32m      9\u001b[0m \u001b[0;34m\u001b[0m\u001b[0m\n\u001b[0;32m---> 10\u001b[0;31m biasedwalk = BWMP.BiasedWalk(graph_pattern, loop_index, type_loop, data_path = data_path, \n\u001b[0m\u001b[1;32m     11\u001b[0m                             train_file = train_file, postfix='', num_processes = num_processes)\n",
      "\u001b[0;32m/hdd/BigIronOnHisHip/r2v/newRegpatterin/RegPattern2Vec_project-main/notebooks/graphpattern2vec/biased_walk_multiprocess.py\u001b[0m in \u001b[0;36m__init__\u001b[0;34m(self, graph_pattern, loop_index, type_loop, data_path, train_file, postfix, degree_biased, num_processes)\u001b[0m\n\u001b[1;32m     37\u001b[0m         \u001b[0mprint\u001b[0m\u001b[0;34m(\u001b[0m\u001b[0;34m'loading data ...'\u001b[0m\u001b[0;34m)\u001b[0m\u001b[0;34m\u001b[0m\u001b[0;34m\u001b[0m\u001b[0m\n\u001b[0;32m---> 38\u001b[0;31m         \u001b[0mself\u001b[0m\u001b[0;34m.\u001b[0m\u001b[0mload_data\u001b[0m\u001b[0;34m(\u001b[0m\u001b[0;34m)\u001b[0m\u001b[0;34m\u001b[0m\u001b[0;34m\u001b[0m\u001b[0m\n\u001b[0m\u001b[1;32m     39\u001b[0m \u001b[0;34m\u001b[0m\u001b[0m\n",
      "\u001b[0;32m/hdd/BigIronOnHisHip/r2v/newRegpatterin/RegPattern2Vec_project-main/notebooks/graphpattern2vec/biased_walk_multiprocess.py\u001b[0m in \u001b[0;36mload_data\u001b[0;34m(self)\u001b[0m\n\u001b[1;32m    157\u001b[0m \u001b[0;34m\u001b[0m\u001b[0m\n\u001b[0;32m--> 158\u001b[0;31m         \u001b[0mh_nodes\u001b[0m \u001b[0;34m=\u001b[0m \u001b[0mset\u001b[0m\u001b[0;34m(\u001b[0m\u001b[0mtuple\u001b[0m\u001b[0;34m(\u001b[0m\u001b[0mzip\u001b[0m\u001b[0;34m(\u001b[0m\u001b[0mdf_train\u001b[0m\u001b[0;34m.\u001b[0m\u001b[0mh_id\u001b[0m\u001b[0;34m,\u001b[0m \u001b[0mdf_train\u001b[0m\u001b[0;34m.\u001b[0m\u001b[0mh_c_id\u001b[0m\u001b[0;34m)\u001b[0m\u001b[0;34m)\u001b[0m\u001b[0;34m)\u001b[0m\u001b[0;34m\u001b[0m\u001b[0;34m\u001b[0m\u001b[0m\n\u001b[0m\u001b[1;32m    159\u001b[0m         \u001b[0mt_nodes\u001b[0m \u001b[0;34m=\u001b[0m \u001b[0mset\u001b[0m\u001b[0;34m(\u001b[0m\u001b[0mtuple\u001b[0m\u001b[0;34m(\u001b[0m\u001b[0mzip\u001b[0m\u001b[0;34m(\u001b[0m\u001b[0mdf_train\u001b[0m\u001b[0;34m.\u001b[0m\u001b[0mt_id\u001b[0m\u001b[0;34m,\u001b[0m \u001b[0mdf_train\u001b[0m\u001b[0;34m.\u001b[0m\u001b[0mt_c_id\u001b[0m\u001b[0;34m)\u001b[0m\u001b[0;34m)\u001b[0m\u001b[0;34m)\u001b[0m\u001b[0;34m\u001b[0m\u001b[0;34m\u001b[0m\u001b[0m\n",
      "\u001b[0;31mKeyboardInterrupt\u001b[0m: ",
      "\nDuring handling of the above exception, another exception occurred:\n",
      "\u001b[0;31mKeyboardInterrupt\u001b[0m                         Traceback (most recent call last)",
      "\u001b[0;31mKeyboardInterrupt\u001b[0m: "
     ]
    }
   ],
   "source": [
    "# loop_index = [1]\n",
    "# type_loop = graph_pattern[1]\n",
    "# num_allow_loop = 3\n",
    "\n",
    "loop_index = []\n",
    "type_loop = {}\n",
    "num_allow_loop = 0\n",
    "num_processes = 0 # zero for number of cores\n",
    "\n",
    "biasedwalk = BWMP.BiasedWalk(graph_pattern, loop_index, type_loop, data_path = data_path, \n",
    "                            train_file = train_file, postfix='', num_processes = num_processes)"
   ]
  },
  {
   "cell_type": "code",
   "execution_count": 6,
   "metadata": {
    "scrolled": true
   },
   "outputs": [
    {
     "ename": "NameError",
     "evalue": "name 'biasedwalk' is not defined",
     "output_type": "error",
     "traceback": [
      "\u001b[0;31m---------------------------------------------------------------------------\u001b[0m",
      "\u001b[0;31mNameError\u001b[0m                                 Traceback (most recent call last)",
      "\u001b[0;32m<ipython-input-6-5e0e6b275ca7>\u001b[0m in \u001b[0;36m<module>\u001b[0;34m\u001b[0m\n\u001b[1;32m      7\u001b[0m \u001b[0;34m\u001b[0m\u001b[0m\n\u001b[1;32m      8\u001b[0m \u001b[0minitials\u001b[0m \u001b[0;34m=\u001b[0m \u001b[0;34m{\u001b[0m\u001b[0;36m0\u001b[0m\u001b[0;34m:\u001b[0m\u001b[0;34m'v'\u001b[0m\u001b[0;34m,\u001b[0m \u001b[0;36m1\u001b[0m\u001b[0;34m:\u001b[0m\u001b[0;34m'a'\u001b[0m\u001b[0;34m,\u001b[0m \u001b[0;36m2\u001b[0m\u001b[0;34m:\u001b[0m\u001b[0;34m'v'\u001b[0m\u001b[0;34m,\u001b[0m \u001b[0;36m3\u001b[0m\u001b[0;34m:\u001b[0m\u001b[0;34m'v'\u001b[0m\u001b[0;34m,\u001b[0m\u001b[0;36m4\u001b[0m\u001b[0;34m:\u001b[0m\u001b[0;34m'f'\u001b[0m\u001b[0;34m,\u001b[0m\u001b[0;36m5\u001b[0m\u001b[0;34m:\u001b[0m\u001b[0;34m'f'\u001b[0m\u001b[0;34m,\u001b[0m \u001b[0;36m6\u001b[0m\u001b[0;34m:\u001b[0m\u001b[0;34m'f'\u001b[0m\u001b[0;34m,\u001b[0m \u001b[0;36m7\u001b[0m\u001b[0;34m:\u001b[0m\u001b[0;34m'f'\u001b[0m\u001b[0;34m,\u001b[0m \u001b[0;36m8\u001b[0m\u001b[0;34m:\u001b[0m\u001b[0;34m'f'\u001b[0m\u001b[0;34m,\u001b[0m \u001b[0;36m9\u001b[0m\u001b[0;34m:\u001b[0m\u001b[0;34m'f'\u001b[0m\u001b[0;34m,\u001b[0m \u001b[0;36m10\u001b[0m\u001b[0;34m:\u001b[0m\u001b[0;34m'f'\u001b[0m\u001b[0;34m}\u001b[0m\u001b[0;34m\u001b[0m\u001b[0;34m\u001b[0m\u001b[0m\n\u001b[0;32m----> 9\u001b[0;31m walk_file_name = biasedwalk.walk_progress(initials, all_nw = all_nw, all_wl = all_wl, num_source = num_source, \n\u001b[0m\u001b[1;32m     10\u001b[0m                                           \u001b[0mnum_allow_loop\u001b[0m \u001b[0;34m=\u001b[0m \u001b[0mnum_allow_loop\u001b[0m\u001b[0;34m,\u001b[0m \u001b[0mwalk_file_prefix\u001b[0m \u001b[0;34m=\u001b[0m \u001b[0mwalk_file_prefix\u001b[0m\u001b[0;34m,\u001b[0m\u001b[0;34m\u001b[0m\u001b[0;34m\u001b[0m\u001b[0m\n\u001b[1;32m     11\u001b[0m                                           loop_chance = loop_chance)\n",
      "\u001b[0;31mNameError\u001b[0m: name 'biasedwalk' is not defined"
     ]
    }
   ],
   "source": [
    "all_nw = 40\n",
    "all_wl = 40\n",
    "\n",
    "walk_file_prefix = 'walk_PREDICTION_REL_simplified_sep_probs'\n",
    "loop_chance = 0\n",
    "num_source = 0\n",
    "\n",
    "initials = {0:'v', 1:'a', 2:'v', 3:'v',4:'f',5:'f', 6:'f', 7:'f', 8:'f', 9:'f', 10:'f'}\n",
    "walk_file_name = biasedwalk.walk_progress(initials, all_nw = all_nw, all_wl = all_wl, num_source = num_source, \n",
    "                                          num_allow_loop = num_allow_loop, walk_file_prefix = walk_file_prefix, \n",
    "                                          loop_chance = loop_chance)"
   ]
  },
  {
   "cell_type": "code",
   "execution_count": 7,
   "metadata": {},
   "outputs": [
    {
     "ename": "NameError",
     "evalue": "name 'walk_file_name' is not defined",
     "output_type": "error",
     "traceback": [
      "\u001b[0;31m---------------------------------------------------------------------------\u001b[0m",
      "\u001b[0;31mNameError\u001b[0m                                 Traceback (most recent call last)",
      "\u001b[0;32m<ipython-input-7-cbc1fe6aad60>\u001b[0m in \u001b[0;36m<module>\u001b[0;34m\u001b[0m\n\u001b[0;32m----> 1\u001b[0;31m \u001b[0mwalk_file_name\u001b[0m\u001b[0;34m\u001b[0m\u001b[0;34m\u001b[0m\u001b[0m\n\u001b[0m",
      "\u001b[0;31mNameError\u001b[0m: name 'walk_file_name' is not defined"
     ]
    }
   ],
   "source": [
    "walk_file_name"
   ]
  },
  {
   "cell_type": "code",
   "execution_count": null,
   "metadata": {},
   "outputs": [],
   "source": []
  },
  {
   "cell_type": "markdown",
   "metadata": {},
   "source": [
    "### Link Prediction"
   ]
  },
  {
   "cell_type": "code",
   "execution_count": 27,
   "metadata": {},
   "outputs": [
    {
     "data": {
      "text/plain": [
       "<module 'graphpattern2vec.link_prediction' from '/hdd/BigIronOnHisHip/r2v/newRegpatterin/RegPattern2Vec_project-main/notebooks/graphpattern2vec/link_prediction.py'>"
      ]
     },
     "execution_count": 27,
     "metadata": {},
     "output_type": "execute_result"
    }
   ],
   "source": [
    "import imp\n",
    "imp.reload(LP)"
   ]
  },
  {
   "cell_type": "code",
   "execution_count": 28,
   "metadata": {},
   "outputs": [],
   "source": [
    "# list_embedding_file = 'emb_walk_final_PREDICTION_10_40_0_0_bwV4_s256_w7_n5_mc5'\n",
    "# list_embedding_file = 'emb_walk_final_PREDICTION_1for1_10_40_0_0_bwV4_s256_w7_n5_mc5'\n",
    "\n",
    "# relation simp\n",
    "list_embedding_file = 'emb_walk_PREDICTION_REL_simplified_sep_probs_40_40_0_0_bwV4_s256_w7_n5_mc5'\n",
    "list_embedding_file = 'GP2VEC_emb_walk_file_40_40_0_0_bwV4_s256_w7_n5_mc5'"
   ]
  },
  {
   "cell_type": "code",
   "execution_count": 29,
   "metadata": {},
   "outputs": [
    {
     "data": {
      "text/plain": [
       "[['Protein', 'LightKinase', 'DarkKinase'], ['Pathway']]"
      ]
     },
     "execution_count": 29,
     "metadata": {},
     "output_type": "execute_result"
    }
   ],
   "source": [
    "[source_types, target_types]"
   ]
  },
  {
   "cell_type": "code",
   "execution_count": 30,
   "metadata": {},
   "outputs": [
    {
     "name": "stdout",
     "output_type": "stream",
     "text": [
      "__load_files| df_merge: (6279373, 10), df_nodes: (1064097, 4), df_relations: (13, 2), df_types: (11, 2)\n",
      "\n",
      "__read_embeddings| row: 1039768, col:256\n",
      "\n",
      "__read_embeddings| size of emb: 1039767, count line: 1039767, list chk: 1039767\n",
      "\n",
      "Getting examples\n",
      "__get_training_examples| list_yes_tuple: 68856, list_yes_emb: 68845 with 11 errors.\n",
      "__get_training_examples| h_uniq_nodes: 1014602, t_uniq_nodes: 1974\n",
      "__get_training_examples| list_no_emb: 68688 with 2 rejected, and 155 errors.\n",
      "__get_training_examples| release some data [set_yes_edges, list_yes_tuple]\n",
      "__get_training_examples| shuffled.\n",
      "__get_training_examples| release some data[ __list_no_emb, __list_yes_emb]\n",
      "__get_training_examples| Garbage Collector.\n",
      "__get_training_examples| release some data[__list_train_emb] \n",
      "__get_training_examples| Training data generated.\n",
      "\n"
     ]
    }
   ],
   "source": [
    "lp = LP.LinkPrediction(data_path, train_file, node_file, relation_file, type_file\n",
    "                , list_embedding_file ,test_file, result_path, \n",
    "                    [source_types, target_types])"
   ]
  },
  {
   "cell_type": "code",
   "execution_count": 31,
   "metadata": {},
   "outputs": [],
   "source": [
    "#lp.draw_pca_of_all_nodes()"
   ]
  },
  {
   "cell_type": "markdown",
   "metadata": {},
   "source": [
    "# The validation is for only the link prediction and not for the random walk and does not represent a the overall prefomacne of the whole model\n",
    "The other notebook named \"graphpattern2vec_process-multithread-Edited2022.ipynb\" is for the real validation found in the paper\n",
    "\n",
    "The histagram and Roc cureve in this notebook is not a good represitaion of the the model's prefomance. "
   ]
  },
  {
   "cell_type": "code",
   "execution_count": 32,
   "metadata": {},
   "outputs": [
    {
     "name": "stdout",
     "output_type": "stream",
     "text": [
      "train_model_cross_validation| train_model| 256 and 1\n",
      "train_model_cross_validation| train_model| X_train: 96273, X_test: 41260, y_train: 96273, y_test:41260\n",
      "train_model_cross_validation| Cross-validation scores: [0.99740341 0.99563772 0.99532613 0.99605277 0.99594889 0.99522177\n",
      " 0.99646827 0.99542952 0.99584502 0.99646827]\n",
      "train_model_cross_validation| Cross-validation Accuracy: 1.00 (+/- 0.00)\n",
      "Cutt off is calculated to be [0.38878835440223275]\n",
      "[[20428    81]\n",
      " [   83 20668]]\n",
      "The test set, precision: 0.996096197407104, recall: 0.9960001927617946, f1 score: 0.9960481927710844\n",
      "__AUC_ROC| roc_auc_lr: 0.9996685740605554\n"
     ]
    },
    {
     "data": {
      "image/png": "[encoded data removed]",
      "text/plain": [
       "<Figure size 432x288 with 1 Axes>"
      ]
     },
     "metadata": {
      "needs_background": "light"
     },
     "output_type": "display_data"
    },
    {
     "data": {
      "image/png": "[encoded data removed]",
      "text/plain": [
       "<Figure size 576x576 with 2 Axes>"
      ]
     },
     "metadata": {
      "needs_background": "light"
     },
     "output_type": "display_data"
    }
   ],
   "source": [
    "#from graphpattern2vec import link_prediction as LP\n",
    "ver_name = list_embedding_file[19:] + '.png'\n",
    "# From GridSearch Best: 0.997333 using {'C': 1.0, 'penalty': 'l2', 'solver': 'liblinear'}\n",
    "# from GridSearch Best: 0.991940 using {'C': 1.0, 'penalty': 'l2', 'solver': 'liblinear'}\n",
    "#scoring = ('accuracy', 'f1', 'roc_auc') # accuracy, f1_micro, roc_auc, roc_auc_ovr\n",
    "\n",
    "lp.train_model_cross_validation_with_split('liblinear', 'ovr', C=1, penalty='l2', cv = 10, ver = ver_name)"
   ]
  },
  {
   "cell_type": "markdown",
   "metadata": {},
   "source": [
    "# Prediction"
   ]
  },
  {
   "cell_type": "code",
   "execution_count": 33,
   "metadata": {},
   "outputs": [
    {
     "name": "stderr",
     "output_type": "stream",
     "text": [
      "  1%|          | 1/151 [00:00<01:21,  1.85it/s]"
     ]
    },
    {
     "name": "stdout",
     "output_type": "stream",
     "text": [
      "predict_for_specific_types| source_nodes: 151, target_nodes: 1974\n"
     ]
    },
    {
     "name": "stderr",
     "output_type": "stream",
     "text": [
      "100%|██████████| 151/151 [01:31<00:00,  1.65it/s]\n"
     ]
    },
    {
     "name": "stdout",
     "output_type": "stream",
     "text": [
      "predict_for_specific_types| used cuttoff: [0.38878835440223275]\n",
      "predict_for_specific_types| missing sources: 0, missing targets: {1929, 5273, 3539, 4484}\n",
      "predict_for_specific_types| possitive predictions: 60053 (negative predictions: 237417)\n",
      "predict_for_specific_types| removing the known predictions...\n",
      "predict_for_specific_types| all prediction: 60053, prediction for unkowns: 59561, remained(known): 492\n",
      "predict_for_specific_types| Raw Predictions saved.\n",
      "\n",
      "predict_for_specific_types| all predictions (297470, 5) saved.\n"
     ]
    }
   ],
   "source": [
    "dark_kinases = lp.get_node_type_to_id()['DarkKinase']\n",
    "df_raw_prediction, list_prediction_all ,neg = lp.predict_for_specific_types('DarkKinase', 'Pathway', filter_source=dark_kinases)"
   ]
  },
  {
   "cell_type": "code",
   "execution_count": 34,
   "metadata": {},
   "outputs": [
    {
     "data": {
      "text/html": [
       "<div>\n",
       "<style scoped>\n",
       "    .dataframe tbody tr th:only-of-type {\n",
       "        vertical-align: middle;\n",
       "    }\n",
       "\n",
       "    .dataframe tbody tr th {\n",
       "        vertical-align: top;\n",
       "    }\n",
       "\n",
       "    .dataframe thead th {\n",
       "        text-align: right;\n",
       "    }\n",
       "</style>\n",
       "<table border=\"1\" class=\"dataframe\">\n",
       "  <thead>\n",
       "    <tr style=\"text-align: right;\">\n",
       "      <th></th>\n",
       "      <th>DarkKinase</th>\n",
       "      <th>Pathway</th>\n",
       "      <th>probability</th>\n",
       "      <th>odds</th>\n",
       "      <th>logOdds</th>\n",
       "    </tr>\n",
       "  </thead>\n",
       "  <tbody>\n",
       "    <tr>\n",
       "      <th>0</th>\n",
       "      <td>Q9BUB5</td>\n",
       "      <td>199418</td>\n",
       "      <td>0.9999999993935897</td>\n",
       "      <td>1649048627.6928833</td>\n",
       "      <td>21.223464369290337</td>\n",
       "    </tr>\n",
       "    <tr>\n",
       "      <th>1</th>\n",
       "      <td>Q9BUB5</td>\n",
       "      <td>168176</td>\n",
       "      <td>0.9999999990804023</td>\n",
       "      <td>1087431998.848001</td>\n",
       "      <td>20.807084789177104</td>\n",
       "    </tr>\n",
       "    <tr>\n",
       "      <th>2</th>\n",
       "      <td>Q6P5Z2</td>\n",
       "      <td>5663220</td>\n",
       "      <td>0.9999999976453935</td>\n",
       "      <td>424699410.9191864</td>\n",
       "      <td>19.86689220823094</td>\n",
       "    </tr>\n",
       "    <tr>\n",
       "      <th>3</th>\n",
       "      <td>P31152</td>\n",
       "      <td>5673001</td>\n",
       "      <td>0.9999999971097913</td>\n",
       "      <td>345995769.65313166</td>\n",
       "      <td>19.661937106511218</td>\n",
       "    </tr>\n",
       "    <tr>\n",
       "      <th>4</th>\n",
       "      <td>Q9BUB5</td>\n",
       "      <td>5683057</td>\n",
       "      <td>0.9999999961227581</td>\n",
       "      <td>257915299.5859731</td>\n",
       "      <td>19.368141792806504</td>\n",
       "    </tr>\n",
       "    <tr>\n",
       "      <th>...</th>\n",
       "      <td>...</td>\n",
       "      <td>...</td>\n",
       "      <td>...</td>\n",
       "      <td>...</td>\n",
       "      <td>...</td>\n",
       "    </tr>\n",
       "    <tr>\n",
       "      <th>59556</th>\n",
       "      <td>Q8TD19</td>\n",
       "      <td>8949664</td>\n",
       "      <td>0.3888789847328807</td>\n",
       "      <td>0.6363371165740433</td>\n",
       "      <td>-0.45202679856651534</td>\n",
       "    </tr>\n",
       "    <tr>\n",
       "      <th>59557</th>\n",
       "      <td>Q9NRP7</td>\n",
       "      <td>8866652</td>\n",
       "      <td>0.3888707948345155</td>\n",
       "      <td>0.6363151876029475</td>\n",
       "      <td>-0.4520612604081764</td>\n",
       "    </tr>\n",
       "    <tr>\n",
       "      <th>59558</th>\n",
       "      <td>Q8TD19</td>\n",
       "      <td>113510</td>\n",
       "      <td>0.3888432941456489</td>\n",
       "      <td>0.6362415570685348</td>\n",
       "      <td>-0.45217698103879367</td>\n",
       "    </tr>\n",
       "    <tr>\n",
       "      <th>59559</th>\n",
       "      <td>O43781</td>\n",
       "      <td>6811434</td>\n",
       "      <td>0.38883354126627917</td>\n",
       "      <td>0.6362154462335933</td>\n",
       "      <td>-0.4522180210658868</td>\n",
       "    </tr>\n",
       "    <tr>\n",
       "      <th>59560</th>\n",
       "      <td>Q9BYP7</td>\n",
       "      <td>9646399</td>\n",
       "      <td>0.3888007970758884</td>\n",
       "      <td>0.6361277881511949</td>\n",
       "      <td>-0.4523558110586626</td>\n",
       "    </tr>\n",
       "  </tbody>\n",
       "</table>\n",
       "<p>59561 rows × 5 columns</p>\n",
       "</div>"
      ],
      "text/plain": [
       "      DarkKinase  Pathway          probability                odds  \\\n",
       "0         Q9BUB5   199418   0.9999999993935897  1649048627.6928833   \n",
       "1         Q9BUB5   168176   0.9999999990804023   1087431998.848001   \n",
       "2         Q6P5Z2  5663220   0.9999999976453935   424699410.9191864   \n",
       "3         P31152  5673001   0.9999999971097913  345995769.65313166   \n",
       "4         Q9BUB5  5683057   0.9999999961227581   257915299.5859731   \n",
       "...          ...      ...                  ...                 ...   \n",
       "59556     Q8TD19  8949664   0.3888789847328807  0.6363371165740433   \n",
       "59557     Q9NRP7  8866652   0.3888707948345155  0.6363151876029475   \n",
       "59558     Q8TD19   113510   0.3888432941456489  0.6362415570685348   \n",
       "59559     O43781  6811434  0.38883354126627917  0.6362154462335933   \n",
       "59560     Q9BYP7  9646399   0.3888007970758884  0.6361277881511949   \n",
       "\n",
       "                    logOdds  \n",
       "0        21.223464369290337  \n",
       "1        20.807084789177104  \n",
       "2         19.86689220823094  \n",
       "3        19.661937106511218  \n",
       "4        19.368141792806504  \n",
       "...                     ...  \n",
       "59556  -0.45202679856651534  \n",
       "59557   -0.4520612604081764  \n",
       "59558  -0.45217698103879367  \n",
       "59559   -0.4522180210658868  \n",
       "59560   -0.4523558110586626  \n",
       "\n",
       "[59561 rows x 5 columns]"
      ]
     },
     "execution_count": 34,
     "metadata": {},
     "output_type": "execute_result"
    }
   ],
   "source": [
    "df_raw_prediction"
   ]
  },
  {
   "cell_type": "code",
   "execution_count": 35,
   "metadata": {},
   "outputs": [],
   "source": [
    "# df_node = pd.read_csv(data_path + node_file)\n",
    "# node_id_to_name = dict(zip(df_node.id, df_node.name))\n",
    "# len(node_id_to_name)"
   ]
  },
  {
   "cell_type": "code",
   "execution_count": 36,
   "metadata": {},
   "outputs": [],
   "source": [
    "# [ node_id_to_name[path] for path in {6854, 8272, 3664, 4791, 3768, 4217, 3547, 8830, 2271}]"
   ]
  },
  {
   "cell_type": "markdown",
   "metadata": {},
   "source": [
    "#### Uniprot to Gene Name"
   ]
  },
  {
   "cell_type": "code",
   "execution_count": 37,
   "metadata": {},
   "outputs": [
    {
     "name": "stdout",
     "output_type": "stream",
     "text": [
      "df_uniprot_mapping: (44616058, 3)\n"
     ]
    },
    {
     "data": {
      "text/plain": [
       "(44614225, 'CAMKK1')"
      ]
     },
     "execution_count": 37,
     "metadata": {},
     "output_type": "execute_result"
    }
   ],
   "source": [
    "import pandas as pd\n",
    "df_uniprot_mapping= pd.read_csv(data_path + 'original/GeneNameMapping.txt', sep='\\t', names=['uniprot', 'mapping', 'GeneName'])\n",
    "print('df_uniprot_mapping: {}'.format(df_uniprot_mapping.shape))\n",
    "\n",
    "uniprot_to_gene = dict(zip(df_uniprot_mapping.uniprot, df_uniprot_mapping.GeneName))\n",
    "len(uniprot_to_gene), uniprot_to_gene['Q8N5S9']"
   ]
  },
  {
   "cell_type": "code",
   "execution_count": null,
   "metadata": {},
   "outputs": [],
   "source": []
  },
  {
   "cell_type": "code",
   "execution_count": 38,
   "metadata": {},
   "outputs": [],
   "source": [
    "df_reactome = pd.read_csv(data_path + 'original/' + 'UniProt2Reactome_All_Levels.txt'\n",
    "                          , sep='\\t', names=['uniprot', 'pathway_id', 'url', 'pathway_name', 'abr', 'd'])\n",
    "# df_reac_human = df_reactome[]\n",
    "df_reac_human = df_reactome[df_reactome['pathway_id'].str.contains('R-HSA')]"
   ]
  },
  {
   "cell_type": "code",
   "execution_count": 39,
   "metadata": {},
   "outputs": [
    {
     "data": {
      "text/plain": [
       "(20969, 2649)"
      ]
     },
     "execution_count": 39,
     "metadata": {},
     "output_type": "execute_result"
    }
   ],
   "source": [
    "# list_pathway_ids = list(df_reactome['pathway_id'].unique())\n",
    "\n",
    "pathway_id_to_name = dict()\n",
    "\n",
    "pathway_code_to_id = dict()\n",
    "\n",
    "for i in df_reactome.itertuples():\n",
    "    pa_id = i[2]\n",
    "    pa_name = i[4]\n",
    "    if pa_id in pathway_id_to_name and pa_name != pathway_id_to_name[pa_id]:\n",
    "        print('err')\n",
    "    pathway_id_to_name[pa_id] = pa_name\n",
    "    \n",
    "    pa_code = pa_id[pa_id.rindex('-') + 1:]\n",
    "    if pa_code not in pathway_code_to_id:\n",
    "        pathway_code_to_id[pa_code] = list()\n",
    "    pathway_code_to_id[pa_code].append(pa_id)\n",
    "    \n",
    "len(pathway_id_to_name), len(pathway_code_to_id)"
   ]
  },
  {
   "cell_type": "code",
   "execution_count": null,
   "metadata": {},
   "outputs": [],
   "source": []
  },
  {
   "cell_type": "code",
   "execution_count": 40,
   "metadata": {},
   "outputs": [],
   "source": [
    "import pandas as pd\n",
    "node_map_file = ''\n",
    "final_prediction_names = ['uniprot', 'ProteinName', 'Pathway_id', 'Pathway_Name', 'Score']\n",
    "prediction_file_path = data_path + result_path"
   ]
  },
  {
   "cell_type": "code",
   "execution_count": 41,
   "metadata": {},
   "outputs": [
    {
     "data": {
      "text/html": [
       "<div>\n",
       "<style scoped>\n",
       "    .dataframe tbody tr th:only-of-type {\n",
       "        vertical-align: middle;\n",
       "    }\n",
       "\n",
       "    .dataframe tbody tr th {\n",
       "        vertical-align: top;\n",
       "    }\n",
       "\n",
       "    .dataframe thead th {\n",
       "        text-align: right;\n",
       "    }\n",
       "</style>\n",
       "<table border=\"1\" class=\"dataframe\">\n",
       "  <thead>\n",
       "    <tr style=\"text-align: right;\">\n",
       "      <th></th>\n",
       "      <th>uniprot</th>\n",
       "      <th>ProteinName</th>\n",
       "      <th>Pathway_id</th>\n",
       "      <th>Pathway_Name</th>\n",
       "      <th>Score</th>\n",
       "    </tr>\n",
       "  </thead>\n",
       "  <tbody>\n",
       "    <tr>\n",
       "      <th>0</th>\n",
       "      <td>Q9BUB5</td>\n",
       "      <td>MKNK1</td>\n",
       "      <td>199418</td>\n",
       "      <td>Negative regulation of the PI3K/AKT network</td>\n",
       "      <td>0.9999999993935897</td>\n",
       "    </tr>\n",
       "    <tr>\n",
       "      <th>1</th>\n",
       "      <td>Q9BUB5</td>\n",
       "      <td>MKNK1</td>\n",
       "      <td>168176</td>\n",
       "      <td>Toll Like Receptor 5 (TLR5) Cascade</td>\n",
       "      <td>0.9999999990804023</td>\n",
       "    </tr>\n",
       "    <tr>\n",
       "      <th>2</th>\n",
       "      <td>Q6P5Z2</td>\n",
       "      <td>PKN3</td>\n",
       "      <td>5663220</td>\n",
       "      <td>RHO GTPases Activate Formins</td>\n",
       "      <td>0.9999999976453935</td>\n",
       "    </tr>\n",
       "    <tr>\n",
       "      <th>3</th>\n",
       "      <td>P31152</td>\n",
       "      <td>MAPK4</td>\n",
       "      <td>5673001</td>\n",
       "      <td>RAF/MAP kinase cascade</td>\n",
       "      <td>0.9999999971097913</td>\n",
       "    </tr>\n",
       "    <tr>\n",
       "      <th>4</th>\n",
       "      <td>Q9BUB5</td>\n",
       "      <td>MKNK1</td>\n",
       "      <td>5683057</td>\n",
       "      <td>MAPK family signaling cascades</td>\n",
       "      <td>0.9999999961227581</td>\n",
       "    </tr>\n",
       "    <tr>\n",
       "      <th>5</th>\n",
       "      <td>P78368</td>\n",
       "      <td>CSNK1G2</td>\n",
       "      <td>176974</td>\n",
       "      <td>Unwinding of DNA</td>\n",
       "      <td>0.9999999936017137</td>\n",
       "    </tr>\n",
       "    <tr>\n",
       "      <th>6</th>\n",
       "      <td>O75747</td>\n",
       "      <td>PIK3C2G</td>\n",
       "      <td>1483249</td>\n",
       "      <td>Inositol phosphate metabolism</td>\n",
       "      <td>0.9999999928222838</td>\n",
       "    </tr>\n",
       "    <tr>\n",
       "      <th>7</th>\n",
       "      <td>Q99640</td>\n",
       "      <td>PKMYT1</td>\n",
       "      <td>69231</td>\n",
       "      <td>Cyclin D associated events in G1</td>\n",
       "      <td>0.9999999922670001</td>\n",
       "    </tr>\n",
       "    <tr>\n",
       "      <th>8</th>\n",
       "      <td>Q13188</td>\n",
       "      <td>STK3</td>\n",
       "      <td>390471</td>\n",
       "      <td>Association of TriC/CCT with target proteins d...</td>\n",
       "      <td>0.9999999922031578</td>\n",
       "    </tr>\n",
       "    <tr>\n",
       "      <th>9</th>\n",
       "      <td>Q9HC98</td>\n",
       "      <td>NEK6</td>\n",
       "      <td>2555396</td>\n",
       "      <td>Mitotic Metaphase and Anaphase</td>\n",
       "      <td>0.9999999896012494</td>\n",
       "    </tr>\n",
       "  </tbody>\n",
       "</table>\n",
       "</div>"
      ],
      "text/plain": [
       "  uniprot ProteinName Pathway_id  \\\n",
       "0  Q9BUB5       MKNK1     199418   \n",
       "1  Q9BUB5       MKNK1     168176   \n",
       "2  Q6P5Z2        PKN3    5663220   \n",
       "3  P31152       MAPK4    5673001   \n",
       "4  Q9BUB5       MKNK1    5683057   \n",
       "5  P78368     CSNK1G2     176974   \n",
       "6  O75747     PIK3C2G    1483249   \n",
       "7  Q99640      PKMYT1      69231   \n",
       "8  Q13188        STK3     390471   \n",
       "9  Q9HC98        NEK6    2555396   \n",
       "\n",
       "                                        Pathway_Name               Score  \n",
       "0        Negative regulation of the PI3K/AKT network  0.9999999993935897  \n",
       "1                Toll Like Receptor 5 (TLR5) Cascade  0.9999999990804023  \n",
       "2                       RHO GTPases Activate Formins  0.9999999976453935  \n",
       "3                             RAF/MAP kinase cascade  0.9999999971097913  \n",
       "4                     MAPK family signaling cascades  0.9999999961227581  \n",
       "5                                   Unwinding of DNA  0.9999999936017137  \n",
       "6                      Inositol phosphate metabolism  0.9999999928222838  \n",
       "7                   Cyclin D associated events in G1  0.9999999922670001  \n",
       "8  Association of TriC/CCT with target proteins d...  0.9999999922031578  \n",
       "9                     Mitotic Metaphase and Anaphase  0.9999999896012494  "
      ]
     },
     "execution_count": 41,
     "metadata": {},
     "output_type": "execute_result"
    }
   ],
   "source": [
    "list_prediction_name = list()\n",
    "errs = []\n",
    "for i in df_raw_prediction.itertuples():\n",
    "\n",
    "    s_name = uniprot_to_gene[i[1]]\n",
    "    path_code = i[2]\n",
    "    try:\n",
    "        list_pa_ids = pathway_code_to_id[path_code]\n",
    "    except KeyError as e:\n",
    "        errs.append(path_code)\n",
    "        continue\n",
    "        sd\n",
    "        \n",
    "    if len(list_pa_ids) == 1:\n",
    "        t_name = pathway_id_to_name[list_pa_ids[0]]\n",
    "    else:\n",
    "        hum = [i for i in list_pa_ids if 'R-HSA' in i]\n",
    "        if len(hum) > 0 :\n",
    "            t_name = pathway_id_to_name[hum[0]]\n",
    "        else:\n",
    "            t_name = pathway_id_to_name[list_pa_ids[0]]\n",
    "\n",
    "    list_prediction_name.append([i[1], s_name, i[2], t_name, i[3]])\n",
    "\n",
    "    \n",
    "df_prediction_name = pd.DataFrame(list_prediction_name, columns=final_prediction_names)\n",
    "df_prediction_name.head(10)"
   ]
  },
  {
   "cell_type": "code",
   "execution_count": 42,
   "metadata": {},
   "outputs": [
    {
     "data": {
      "text/plain": [
       "(1441, 5)"
      ]
     },
     "execution_count": 42,
     "metadata": {},
     "output_type": "execute_result"
    }
   ],
   "source": [
    "df_prediction_name[df_prediction_name.ProteinName == 'STK40'].shape"
   ]
  },
  {
   "cell_type": "code",
   "execution_count": 43,
   "metadata": {},
   "outputs": [
    {
     "data": {
      "text/plain": [
       "(0, 0)"
      ]
     },
     "execution_count": 43,
     "metadata": {},
     "output_type": "execute_result"
    }
   ],
   "source": [
    "len(errs), len(set(errs)) # pathway_code_to_id errors"
   ]
  },
  {
   "cell_type": "code",
   "execution_count": 44,
   "metadata": {},
   "outputs": [
    {
     "data": {
      "text/plain": [
       "'data/results/df_prediction_name_GP2VEC_emb_walk_file_40_40_0_0_bwV4_s256_w7_n5_mc5.csv'"
      ]
     },
     "execution_count": 44,
     "metadata": {},
     "output_type": "execute_result"
    }
   ],
   "source": [
    "prediction_file_path + 'df_prediction_name_{}.csv'.format(list_embedding_file)"
   ]
  },
  {
   "cell_type": "code",
   "execution_count": 45,
   "metadata": {},
   "outputs": [],
   "source": [
    "df_prediction_name.to_csv(prediction_file_path + 'df_prediction_name_{}.csv'.format(list_embedding_file), index = False)"
   ]
  },
  {
   "cell_type": "code",
   "execution_count": null,
   "metadata": {},
   "outputs": [],
   "source": []
  }
 ],
 "metadata": {
  "kernelspec": {
   "display_name": "Python 3",
   "language": "python",
   "name": "python3"
  },
  "language_info": {
   "codemirror_mode": {
    "name": "ipython",
    "version": 3
   },
   "file_extension": ".py",
   "mimetype": "text/x-python",
   "name": "python",
   "nbconvert_exporter": "python",
   "pygments_lexer": "ipython3",
   "version": "3.8.8"
  }
 },
 "nbformat": 4,
 "nbformat_minor": 4
}
