{
 "cells": [
  {
   "cell_type": "markdown",
   "metadata": {},
   "source": [
    "### To run experiment and evaluate it:\n",
    "  - We will use **graphpattern2vec_process-multithread-Edited2022** notebook\n",
    "    - All the cells should be run until **Link Prediction**.\n",
    "    - Stop using the notebook, and manually run the metapath2vec to generate walk files.\n",
    "    - Run all rest of cells after **Link Prediction**\n"
   ]
  },
  {
   "cell_type": "code",
   "execution_count": 1,
   "metadata": {},
   "outputs": [],
   "source": [
    "from graphpattern2vec import split_data as sp\n",
    "from graphpattern2vec import biased_walk as BW\n",
    "from graphpattern2vec import biased_walk_multiprocess as BWMP\n",
    "# from graphpattern2vec import check_walks as CW\n",
    "from graphpattern2vec import CheckWalks as CW\n",
    "from graphpattern2vec import link_prediction as LP"
   ]
  },
  {
   "cell_type": "markdown",
   "metadata": {},
   "source": [
    "#### Initialization "
   ]
  },
  {
   "cell_type": "code",
   "execution_count": 2,
   "metadata": {},
   "outputs": [],
   "source": [
    "data_path = 'data/'\n",
    "main_edge_file = 'df_edges.csv'\n",
    "relation_to_predict = 'hasPathway'\n",
    "train_file = 'df_train.csv'\n",
    "\n",
    "node_file = 'df_node.csv'\n",
    "relation_file = 'df_relation.csv'\n",
    "type_file = 'df_type.csv'\n",
    "test_file = 'df_test.csv'\n",
    "\n",
    "result_path = 'results/'\n",
    "\n",
    "source_types = ['Protein', 'LightKinase', 'DarkKinase']\n",
    "target_types = ['Pathway']"
   ]
  },
  {
   "cell_type": "markdown",
   "metadata": {},
   "source": [
    "### Split"
   ]
  },
  {
   "cell_type": "code",
   "execution_count": 3,
   "metadata": {},
   "outputs": [
    {
     "name": "stdout",
     "output_type": "stream",
     "text": [
      "df_edges: (6279373, 10)\n",
      "number of total node in data based on the Networkx's Graph 9272\n",
      "df_interest: 68856, count_msp: 5, sum_edges: 59590\n",
      "all removed nodes 8905 in the train 9272(should be equal to nodes in graph).\n",
      "number of candidate edges to remove: 59590\n",
      "total number of edge of interest: (68856, 10)\n",
      "edge_to_index: 137712, index_to_edge: 68856\n",
      "candidates_indices: 59590 == unique 59590\n",
      "The minimum of 34428.0 and 59590 is 34428.\n",
      "selected indices: 34428, df_test_edges: (34428, 10)\n",
      "indices of the rest of interest: 34428, df_interest_rest: (34428, 10)\n",
      "rest of edges except the edge of interest: (6210517, 10)\n",
      "df_train: (6244945, 10)\n",
      "True\n",
      "saving file df_test.csv ...\n",
      "file df_test.csv and size (34428, 10) is saved.\n",
      "saving file df_train.csv ...\n",
      "file df_train.csv and size (6244945, 10) is saved.\n",
      "split is done.\n"
     ]
    }
   ],
   "source": [
    "split_pred = 0.5\n",
    "\n",
    "\n",
    "sp.split_process(data_path,main_edge_file ,relation_to_predict, split_pred, train_file_name = train_file, test_file_name=test_file)"
   ]
  },
  {
   "cell_type": "markdown",
   "metadata": {},
   "source": [
    "### Walks"
   ]
  },
  {
   "cell_type": "markdown",
   "metadata": {},
   "source": [
    "#### Types\n",
    "- 0,Protein\n",
    "- 1,Pathway\n",
    "- 2,LightKinase\n",
    "- 3,DarkKinase\n",
    "\n",
    "- 4,PTM\n",
    "- 5,FunctionalDomain\n",
    "- 6,BiologicalProcess\n",
    "- 7,MolecularFunction\n",
    "- 8,CellularComponent\n",
    "- 9,Chemical\n",
    "- 10,Disease"
   ]
  },
  {
   "cell_type": "code",
   "execution_count": 4,
   "metadata": {},
   "outputs": [
    {
     "data": {
      "text/plain": [
       "<module 'graphpattern2vec.biased_walk_multiprocess' from '/hdd/BigIronOnHisHip/r2v/newRegpatterin/RegPattern2Vec_project-main/notebooks/graphpattern2vec/biased_walk_multiprocess.py'>"
      ]
     },
     "execution_count": 4,
     "metadata": {},
     "output_type": "execute_result"
    }
   ],
   "source": [
    "import imp\n",
    "imp.reload(BWMP)"
   ]
  },
  {
   "cell_type": "code",
   "execution_count": 5,
   "metadata": {},
   "outputs": [
    {
     "data": {
      "text/plain": [
       "[{0: 1, 2: 1, 3: 1},\n",
       " {0: 1, 2: 1, 3: 1, 4: 1, 5: 1, 6: 1, 7: 1, 8: 1, 9: 1, 10: 1},\n",
       " {0: 1, 2: 1, 3: 1},\n",
       " {1: 1}]"
      ]
     },
     "execution_count": 5,
     "metadata": {},
     "output_type": "execute_result"
    }
   ],
   "source": [
    "graph_pattern = [{0:1,2:1,3:1}, {0:1, 2:1, 3:1, 4:1,5:1, 6:1, 7:1, 8:1, 9:1, 10:1}, {0:1,2:1,3:1}, {1:1}]\n",
    "graph_pattern"
   ]
  },
  {
   "cell_type": "code",
   "execution_count": 6,
   "metadata": {},
   "outputs": [
    {
     "name": "stdout",
     "output_type": "stream",
     "text": [
      "loading data ...\n",
      "df_train: (6244945, 5)\n",
      "based on graphpattern df_train_sel: (6244945, 5), set_sel_types: 11\n",
      "h: 1020715, t: 98719\n",
      "nodes: 1064097\n",
      "types of node and their counts:\n",
      "type_to_node: 11\n"
     ]
    },
    {
     "name": "stderr",
     "output_type": "stream",
     "text": [
      "Nodes:   4%|▍         | 40380/1064097 [00:00<00:02, 403768.62it/s]"
     ]
    },
    {
     "name": "stdout",
     "output_type": "stream",
     "text": [
      "id_to_type: 1064097\n"
     ]
    },
    {
     "name": "stderr",
     "output_type": "stream",
     "text": [
      "Nodes: 100%|██████████| 1064097/1064097 [00:02<00:00, 379974.05it/s]\n",
      "Edges: 100%|██████████| 6244945/6244945 [00:43<00:00, 144890.03it/s]\n"
     ]
    }
   ],
   "source": [
    "loop_index = []\n",
    "type_loop = {}\n",
    "num_allow_loop = 0\n",
    "num_processes = 0 # zero for number of cores\n",
    "\n",
    "biasedwalk = BWMP.BiasedWalk(graph_pattern, loop_index, type_loop, data_path = data_path, \n",
    "                            train_file = train_file, postfix='', num_processes = num_processes)"
   ]
  },
  {
   "cell_type": "code",
   "execution_count": 7,
   "metadata": {
    "scrolled": true
   },
   "outputs": [
    {
     "name": "stderr",
     "output_type": "stream",
     "text": [
      "prepare allow dict: 100%|██████████| 4/4 [00:58<00:00, 14.55s/it]\n",
      "check backwards: 100%|██████████| 1064097/1064097 [00:13<00:00, 79975.24it/s]\n",
      "calc scores: 100%|██████████| 1064097/1064097 [00:06<00:00, 161718.33it/s]\n",
      "assign scores of neighbours: 100%|██████████| 1064097/1064097 [01:41<00:00, 10457.25it/s]\n"
     ]
    },
    {
     "name": "stdout",
     "output_type": "stream",
     "text": [
      "allowed attr prepared.\n",
      "scores attr prepared.\n",
      "nei_scores attr prepared\n",
      "added attributes to the graph\n",
      "source nodes: 1014602, target_nodes: 1974\n",
      "source nodes: 1014602, selected_nodes: 1014602\n",
      "job_number: 6, chunks for thread: 6\n"
     ]
    },
    {
     "name": "stderr",
     "output_type": "stream",
     "text": [
      "  0%|          | 0/169100 [00:00<?, ?it/s]/hdd/BigIronOnHisHip/r2v/newRegpatterin/RegPattern2Vec_project-main/notebooks/graphpattern2vec/biased_walk_multiprocess.py:406: FutureWarning: elementwise comparison failed; returning scalar instead, but in the future will perform elementwise comparison\n",
      "  p_index = np.where(all_d == pnode)\n",
      "  0%|          | 0/169100 [00:00<?, ?it/s]/hdd/BigIronOnHisHip/r2v/newRegpatterin/RegPattern2Vec_project-main/notebooks/graphpattern2vec/biased_walk_multiprocess.py:406: FutureWarning: elementwise comparison failed; returning scalar instead, but in the future will perform elementwise comparison\n",
      "  p_index = np.where(all_d == pnode)\n",
      "  0%|          | 0/169100 [00:00<?, ?it/s] 5.97it/s]/hdd/BigIronOnHisHip/r2v/newRegpatterin/RegPattern2Vec_project-main/notebooks/graphpattern2vec/biased_walk_multiprocess.py:406: FutureWarning: elementwise comparison failed; returning scalar instead, but in the future will perform elementwise comparison\n",
      "  p_index = np.where(all_d == pnode)\n",
      "/hdd/BigIronOnHisHip/r2v/newRegpatterin/RegPattern2Vec_project-main/notebooks/graphpattern2vec/biased_walk_multiprocess.py:406: FutureWarning: elementwise comparison failed; returning scalar instead, but in the future will perform elementwise comparison\n",
      "  p_index = np.where(all_d == pnode)\n",
      "  0%|          | 0/169101 [00:00<?, ?it/s]/hdd/BigIronOnHisHip/r2v/newRegpatterin/RegPattern2Vec_project-main/notebooks/graphpattern2vec/biased_walk_multiprocess.py:406: FutureWarning: elementwise comparison failed; returning scalar instead, but in the future will perform elementwise comparison\n",
      "  p_index = np.where(all_d == pnode)\n",
      "/hdd/BigIronOnHisHip/r2v/newRegpatterin/RegPattern2Vec_project-main/notebooks/graphpattern2vec/biased_walk_multiprocess.py:406: FutureWarning: elementwise comparison failed; returning scalar instead, but in the future will perform elementwise comparison\n",
      "  p_index = np.where(all_d == pnode)\n",
      "  0%|          | 556/169100 [04:06<20:46:21,  2.25it/s]\n",
      "Process Process-4:\n",
      "  0%|          | 496/169100 [04:06<23:19:18,  2.01it/s]\n",
      "Process Process-2:\n",
      "  0%|          | 502/169101 [04:06<23:01:47,  2.03it/s]Traceback (most recent call last):\n",
      "Traceback (most recent call last):\n",
      "\n",
      "  File \"/home/esbg/anaconda3/lib/python3.8/multiprocessing/process.py\", line 315, in _bootstrap\n",
      "    self.run()\n",
      "Process Process-3:\n",
      "  0%|          | 524/169101 [04:06<22:02:41,  2.12it/s]\n",
      "Traceback (most recent call last):\n",
      "Process Process-6:\n",
      "  0%|          | 526/169100 [04:07<21:59:44,  2.13it/s]  File \"/home/esbg/anaconda3/lib/python3.8/multiprocessing/process.py\", line 315, in _bootstrap\n",
      "    self.run()\n",
      "\n",
      "  File \"/home/esbg/anaconda3/lib/python3.8/multiprocessing/process.py\", line 108, in run\n",
      "    self._target(*self._args, **self._kwargs)\n",
      "Process Process-1:\n",
      "Traceback (most recent call last):\n",
      "  0%|          | 522/169100 [04:06<22:08:07,  2.12it/s]  File \"/home/esbg/anaconda3/lib/python3.8/multiprocessing/process.py\", line 315, in _bootstrap\n",
      "    self.run()\n",
      "  File \"/home/esbg/anaconda3/lib/python3.8/multiprocessing/process.py\", line 108, in run\n",
      "    self._target(*self._args, **self._kwargs)\n",
      "  File \"/hdd/BigIronOnHisHip/r2v/newRegpatterin/RegPattern2Vec_project-main/notebooks/graphpattern2vec/biased_walk_multiprocess.py\", line 515, in walk\n",
      "    next_node= self.select_next_GP_visited_biased(node, prev_node, i) # normal step\n",
      "  File \"/hdd/BigIronOnHisHip/r2v/newRegpatterin/RegPattern2Vec_project-main/notebooks/graphpattern2vec/biased_walk_multiprocess.py\", line 416, in select_next_GP_visited_biased\n",
      "    rels = [self.G[node][n]['relation'] for n in nei]\n",
      "  File \"/hdd/BigIronOnHisHip/r2v/newRegpatterin/RegPattern2Vec_project-main/notebooks/graphpattern2vec/biased_walk_multiprocess.py\", line 416, in <listcomp>\n",
      "    rels = [self.G[node][n]['relation'] for n in nei]\n",
      "  File \"/home/esbg/anaconda3/lib/python3.8/site-packages/networkx/classes/coreviews.py\", line 54, in __getitem__\n",
      "    return self._atlas[key]\n",
      "KeyboardInterrupt\n",
      "  File \"/home/esbg/anaconda3/lib/python3.8/multiprocessing/process.py\", line 315, in _bootstrap\n",
      "    self.run()\n",
      "Traceback (most recent call last):\n",
      "  File \"/hdd/BigIronOnHisHip/r2v/newRegpatterin/RegPattern2Vec_project-main/notebooks/graphpattern2vec/biased_walk_multiprocess.py\", line 515, in walk\n",
      "    next_node= self.select_next_GP_visited_biased(node, prev_node, i) # normal step\n",
      "\n",
      "  File \"/home/esbg/anaconda3/lib/python3.8/multiprocessing/process.py\", line 108, in run\n",
      "    self._target(*self._args, **self._kwargs)\n",
      "  File \"/home/esbg/anaconda3/lib/python3.8/multiprocessing/process.py\", line 315, in _bootstrap\n",
      "    self.run()\n",
      "  File \"/home/esbg/anaconda3/lib/python3.8/multiprocessing/process.py\", line 108, in run\n",
      "    self._target(*self._args, **self._kwargs)\n",
      "  File \"/hdd/BigIronOnHisHip/r2v/newRegpatterin/RegPattern2Vec_project-main/notebooks/graphpattern2vec/biased_walk_multiprocess.py\", line 416, in select_next_GP_visited_biased\n",
      "    rels = [self.G[node][n]['relation'] for n in nei]\n",
      "  File \"/hdd/BigIronOnHisHip/r2v/newRegpatterin/RegPattern2Vec_project-main/notebooks/graphpattern2vec/biased_walk_multiprocess.py\", line 515, in walk\n",
      "    next_node= self.select_next_GP_visited_biased(node, prev_node, i) # normal step\n",
      "  File \"/hdd/BigIronOnHisHip/r2v/newRegpatterin/RegPattern2Vec_project-main/notebooks/graphpattern2vec/biased_walk_multiprocess.py\", line 515, in walk\n",
      "    next_node= self.select_next_GP_visited_biased(node, prev_node, i) # normal step\n",
      "  File \"/hdd/BigIronOnHisHip/r2v/newRegpatterin/RegPattern2Vec_project-main/notebooks/graphpattern2vec/biased_walk_multiprocess.py\", line 416, in <listcomp>\n",
      "    rels = [self.G[node][n]['relation'] for n in nei]\n",
      "  File \"/hdd/BigIronOnHisHip/r2v/newRegpatterin/RegPattern2Vec_project-main/notebooks/graphpattern2vec/biased_walk_multiprocess.py\", line 416, in select_next_GP_visited_biased\n",
      "    rels = [self.G[node][n]['relation'] for n in nei]\n",
      "  File \"/home/esbg/anaconda3/lib/python3.8/multiprocessing/process.py\", line 108, in run\n",
      "    self._target(*self._args, **self._kwargs)\n",
      "  File \"/home/esbg/anaconda3/lib/python3.8/site-packages/networkx/classes/graph.py\", line 476, in __getitem__\n",
      "    return self.adj[n]\n",
      "  File \"/hdd/BigIronOnHisHip/r2v/newRegpatterin/RegPattern2Vec_project-main/notebooks/graphpattern2vec/biased_walk_multiprocess.py\", line 416, in select_next_GP_visited_biased\n",
      "    rels = [self.G[node][n]['relation'] for n in nei]\n",
      "Process Process-5:\n",
      "  File \"/hdd/BigIronOnHisHip/r2v/newRegpatterin/RegPattern2Vec_project-main/notebooks/graphpattern2vec/biased_walk_multiprocess.py\", line 416, in <listcomp>\n",
      "    rels = [self.G[node][n]['relation'] for n in nei]\n",
      "  File \"/home/esbg/anaconda3/lib/python3.8/site-packages/networkx/classes/coreviews.py\", line 82, in __getitem__\n",
      "    return AtlasView(self._atlas[name])\n",
      "  File \"/hdd/BigIronOnHisHip/r2v/newRegpatterin/RegPattern2Vec_project-main/notebooks/graphpattern2vec/biased_walk_multiprocess.py\", line 515, in walk\n",
      "    next_node= self.select_next_GP_visited_biased(node, prev_node, i) # normal step\n",
      "  File \"/hdd/BigIronOnHisHip/r2v/newRegpatterin/RegPattern2Vec_project-main/notebooks/graphpattern2vec/biased_walk_multiprocess.py\", line 416, in <listcomp>\n",
      "    rels = [self.G[node][n]['relation'] for n in nei]\n",
      "Traceback (most recent call last):\n",
      "  File \"/home/esbg/anaconda3/lib/python3.8/site-packages/networkx/classes/graph.py\", line 476, in __getitem__\n",
      "    return self.adj[n]\n",
      "  File \"/home/esbg/anaconda3/lib/python3.8/site-packages/networkx/classes/coreviews.py\", line 44, in __init__\n",
      "    def __init__(self, d):\n",
      "  File \"/hdd/BigIronOnHisHip/r2v/newRegpatterin/RegPattern2Vec_project-main/notebooks/graphpattern2vec/biased_walk_multiprocess.py\", line 416, in select_next_GP_visited_biased\n",
      "    rels = [self.G[node][n]['relation'] for n in nei]\n",
      "  File \"/home/esbg/anaconda3/lib/python3.8/multiprocessing/process.py\", line 315, in _bootstrap\n",
      "    self.run()\n",
      "  File \"/home/esbg/anaconda3/lib/python3.8/site-packages/networkx/classes/coreviews.py\", line 54, in __getitem__\n",
      "    return self._atlas[key]\n",
      "KeyboardInterrupt\n",
      "  File \"/hdd/BigIronOnHisHip/r2v/newRegpatterin/RegPattern2Vec_project-main/notebooks/graphpattern2vec/biased_walk_multiprocess.py\", line 416, in <listcomp>\n",
      "    rels = [self.G[node][n]['relation'] for n in nei]\n",
      "  File \"/home/esbg/anaconda3/lib/python3.8/multiprocessing/process.py\", line 108, in run\n",
      "    self._target(*self._args, **self._kwargs)\n",
      "KeyboardInterrupt\n",
      "KeyboardInterrupt\n",
      "  File \"/home/esbg/anaconda3/lib/python3.8/site-packages/networkx/classes/coreviews.py\", line 81, in __getitem__\n",
      "    def __getitem__(self, name):\n",
      "  File \"/hdd/BigIronOnHisHip/r2v/newRegpatterin/RegPattern2Vec_project-main/notebooks/graphpattern2vec/biased_walk_multiprocess.py\", line 515, in walk\n",
      "    next_node= self.select_next_GP_visited_biased(node, prev_node, i) # normal step\n",
      "  File \"/hdd/BigIronOnHisHip/r2v/newRegpatterin/RegPattern2Vec_project-main/notebooks/graphpattern2vec/biased_walk_multiprocess.py\", line 416, in select_next_GP_visited_biased\n",
      "    rels = [self.G[node][n]['relation'] for n in nei]\n",
      "KeyboardInterrupt\n",
      "  File \"/hdd/BigIronOnHisHip/r2v/newRegpatterin/RegPattern2Vec_project-main/notebooks/graphpattern2vec/biased_walk_multiprocess.py\", line 416, in <listcomp>\n",
      "    rels = [self.G[node][n]['relation'] for n in nei]\n",
      "  File \"/home/esbg/anaconda3/lib/python3.8/site-packages/networkx/classes/graph.py\", line 476, in __getitem__\n",
      "    return self.adj[n]\n",
      "  File \"/home/esbg/anaconda3/lib/python3.8/site-packages/networkx/classes/coreviews.py\", line 81, in __getitem__\n",
      "    def __getitem__(self, name):\n",
      "KeyboardInterrupt\n"
     ]
    },
    {
     "ename": "KeyboardInterrupt",
     "evalue": "",
     "output_type": "error",
     "traceback": [
      "\u001b[0;31m---------------------------------------------------------------------------\u001b[0m",
      "\u001b[0;31mKeyboardInterrupt\u001b[0m                         Traceback (most recent call last)",
      "\u001b[0;32m<ipython-input-7-c39f64114f70>\u001b[0m in \u001b[0;36m<module>\u001b[0;34m\u001b[0m\n\u001b[1;32m      7\u001b[0m \u001b[0;34m\u001b[0m\u001b[0m\n\u001b[1;32m      8\u001b[0m \u001b[0minitials\u001b[0m \u001b[0;34m=\u001b[0m \u001b[0;34m{\u001b[0m\u001b[0;36m0\u001b[0m\u001b[0;34m:\u001b[0m\u001b[0;34m'v'\u001b[0m\u001b[0;34m,\u001b[0m \u001b[0;36m1\u001b[0m\u001b[0;34m:\u001b[0m\u001b[0;34m'a'\u001b[0m\u001b[0;34m,\u001b[0m \u001b[0;36m2\u001b[0m\u001b[0;34m:\u001b[0m\u001b[0;34m'v'\u001b[0m\u001b[0;34m,\u001b[0m \u001b[0;36m3\u001b[0m\u001b[0;34m:\u001b[0m\u001b[0;34m'v'\u001b[0m\u001b[0;34m,\u001b[0m\u001b[0;36m4\u001b[0m\u001b[0;34m:\u001b[0m\u001b[0;34m'f'\u001b[0m\u001b[0;34m,\u001b[0m\u001b[0;36m5\u001b[0m\u001b[0;34m:\u001b[0m\u001b[0;34m'f'\u001b[0m\u001b[0;34m,\u001b[0m \u001b[0;36m6\u001b[0m\u001b[0;34m:\u001b[0m\u001b[0;34m'f'\u001b[0m\u001b[0;34m,\u001b[0m \u001b[0;36m7\u001b[0m\u001b[0;34m:\u001b[0m\u001b[0;34m'f'\u001b[0m\u001b[0;34m,\u001b[0m \u001b[0;36m8\u001b[0m\u001b[0;34m:\u001b[0m\u001b[0;34m'f'\u001b[0m\u001b[0;34m,\u001b[0m \u001b[0;36m9\u001b[0m\u001b[0;34m:\u001b[0m\u001b[0;34m'f'\u001b[0m\u001b[0;34m,\u001b[0m \u001b[0;36m10\u001b[0m\u001b[0;34m:\u001b[0m\u001b[0;34m'f'\u001b[0m\u001b[0;34m}\u001b[0m\u001b[0;34m\u001b[0m\u001b[0;34m\u001b[0m\u001b[0m\n\u001b[0;32m----> 9\u001b[0;31m walk_file_name = biasedwalk.walk_progress(initials, all_nw = all_nw, all_wl = all_wl, num_source = num_source, \n\u001b[0m\u001b[1;32m     10\u001b[0m                                           \u001b[0mnum_allow_loop\u001b[0m \u001b[0;34m=\u001b[0m \u001b[0mnum_allow_loop\u001b[0m\u001b[0;34m,\u001b[0m \u001b[0mwalk_file_prefix\u001b[0m \u001b[0;34m=\u001b[0m \u001b[0mwalk_file_prefix\u001b[0m\u001b[0;34m,\u001b[0m\u001b[0;34m\u001b[0m\u001b[0;34m\u001b[0m\u001b[0m\n\u001b[1;32m     11\u001b[0m                                           loop_chance = loop_chance)\n",
      "\u001b[0;32m/hdd/BigIronOnHisHip/r2v/newRegpatterin/RegPattern2Vec_project-main/notebooks/graphpattern2vec/biased_walk_multiprocess.py\u001b[0m in \u001b[0;36mwalk_progress\u001b[0;34m(self, initials, all_nw, all_wl, num_source, num_allow_loop, walk_file_prefix, loop_chance)\u001b[0m\n\u001b[1;32m    130\u001b[0m         \u001b[0;32mwith\u001b[0m \u001b[0mopen\u001b[0m\u001b[0;34m(\u001b[0m\u001b[0mself\u001b[0m\u001b[0;34m.\u001b[0m\u001b[0mdata_path\u001b[0m \u001b[0;34m+\u001b[0m \u001b[0mwalk_file\u001b[0m\u001b[0;34m,\u001b[0m \u001b[0;34m'w'\u001b[0m\u001b[0;34m)\u001b[0m \u001b[0;32mas\u001b[0m \u001b[0moutfile\u001b[0m\u001b[0;34m:\u001b[0m\u001b[0;34m\u001b[0m\u001b[0;34m\u001b[0m\u001b[0m\n\u001b[1;32m    131\u001b[0m             \u001b[0;32mfor\u001b[0m \u001b[0mi\u001b[0m \u001b[0;32min\u001b[0m \u001b[0mrange\u001b[0m\u001b[0;34m(\u001b[0m\u001b[0mlen\u001b[0m\u001b[0;34m(\u001b[0m\u001b[0mjobs\u001b[0m\u001b[0;34m)\u001b[0m\u001b[0;34m)\u001b[0m\u001b[0;34m:\u001b[0m\u001b[0;34m\u001b[0m\u001b[0;34m\u001b[0m\u001b[0m\n\u001b[0;32m--> 132\u001b[0;31m                 \u001b[0mresults\u001b[0m \u001b[0;34m=\u001b[0m  \u001b[0mq\u001b[0m\u001b[0;34m.\u001b[0m\u001b[0mget\u001b[0m\u001b[0;34m(\u001b[0m\u001b[0;34m)\u001b[0m\u001b[0;34m\u001b[0m\u001b[0;34m\u001b[0m\u001b[0m\n\u001b[0m\u001b[1;32m    133\u001b[0m                 \u001b[0;32mfor\u001b[0m \u001b[0mresult\u001b[0m \u001b[0;32min\u001b[0m \u001b[0mresults\u001b[0m\u001b[0;34m:\u001b[0m\u001b[0;34m\u001b[0m\u001b[0;34m\u001b[0m\u001b[0m\n\u001b[1;32m    134\u001b[0m                     \u001b[0moutfile\u001b[0m\u001b[0;34m.\u001b[0m\u001b[0mwrite\u001b[0m\u001b[0;34m(\u001b[0m\u001b[0mresult\u001b[0m \u001b[0;34m+\u001b[0m \u001b[0;34m'\\n'\u001b[0m\u001b[0;34m)\u001b[0m\u001b[0;34m\u001b[0m\u001b[0;34m\u001b[0m\u001b[0m\n",
      "\u001b[0;32m~/anaconda3/lib/python3.8/multiprocessing/queues.py\u001b[0m in \u001b[0;36mget\u001b[0;34m(self, block, timeout)\u001b[0m\n\u001b[1;32m     95\u001b[0m         \u001b[0;32mif\u001b[0m \u001b[0mblock\u001b[0m \u001b[0;32mand\u001b[0m \u001b[0mtimeout\u001b[0m \u001b[0;32mis\u001b[0m \u001b[0;32mNone\u001b[0m\u001b[0;34m:\u001b[0m\u001b[0;34m\u001b[0m\u001b[0;34m\u001b[0m\u001b[0m\n\u001b[1;32m     96\u001b[0m             \u001b[0;32mwith\u001b[0m \u001b[0mself\u001b[0m\u001b[0;34m.\u001b[0m\u001b[0m_rlock\u001b[0m\u001b[0;34m:\u001b[0m\u001b[0;34m\u001b[0m\u001b[0;34m\u001b[0m\u001b[0m\n\u001b[0;32m---> 97\u001b[0;31m                 \u001b[0mres\u001b[0m \u001b[0;34m=\u001b[0m \u001b[0mself\u001b[0m\u001b[0;34m.\u001b[0m\u001b[0m_recv_bytes\u001b[0m\u001b[0;34m(\u001b[0m\u001b[0;34m)\u001b[0m\u001b[0;34m\u001b[0m\u001b[0;34m\u001b[0m\u001b[0m\n\u001b[0m\u001b[1;32m     98\u001b[0m             \u001b[0mself\u001b[0m\u001b[0;34m.\u001b[0m\u001b[0m_sem\u001b[0m\u001b[0;34m.\u001b[0m\u001b[0mrelease\u001b[0m\u001b[0;34m(\u001b[0m\u001b[0;34m)\u001b[0m\u001b[0;34m\u001b[0m\u001b[0;34m\u001b[0m\u001b[0m\n\u001b[1;32m     99\u001b[0m         \u001b[0;32melse\u001b[0m\u001b[0;34m:\u001b[0m\u001b[0;34m\u001b[0m\u001b[0;34m\u001b[0m\u001b[0m\n",
      "\u001b[0;32m~/anaconda3/lib/python3.8/multiprocessing/connection.py\u001b[0m in \u001b[0;36mrecv_bytes\u001b[0;34m(self, maxlength)\u001b[0m\n\u001b[1;32m    214\u001b[0m         \u001b[0;32mif\u001b[0m \u001b[0mmaxlength\u001b[0m \u001b[0;32mis\u001b[0m \u001b[0;32mnot\u001b[0m \u001b[0;32mNone\u001b[0m \u001b[0;32mand\u001b[0m \u001b[0mmaxlength\u001b[0m \u001b[0;34m<\u001b[0m \u001b[0;36m0\u001b[0m\u001b[0;34m:\u001b[0m\u001b[0;34m\u001b[0m\u001b[0;34m\u001b[0m\u001b[0m\n\u001b[1;32m    215\u001b[0m             \u001b[0;32mraise\u001b[0m \u001b[0mValueError\u001b[0m\u001b[0;34m(\u001b[0m\u001b[0;34m\"negative maxlength\"\u001b[0m\u001b[0;34m)\u001b[0m\u001b[0;34m\u001b[0m\u001b[0;34m\u001b[0m\u001b[0m\n\u001b[0;32m--> 216\u001b[0;31m         \u001b[0mbuf\u001b[0m \u001b[0;34m=\u001b[0m \u001b[0mself\u001b[0m\u001b[0;34m.\u001b[0m\u001b[0m_recv_bytes\u001b[0m\u001b[0;34m(\u001b[0m\u001b[0mmaxlength\u001b[0m\u001b[0;34m)\u001b[0m\u001b[0;34m\u001b[0m\u001b[0;34m\u001b[0m\u001b[0m\n\u001b[0m\u001b[1;32m    217\u001b[0m         \u001b[0;32mif\u001b[0m \u001b[0mbuf\u001b[0m \u001b[0;32mis\u001b[0m \u001b[0;32mNone\u001b[0m\u001b[0;34m:\u001b[0m\u001b[0;34m\u001b[0m\u001b[0;34m\u001b[0m\u001b[0m\n\u001b[1;32m    218\u001b[0m             \u001b[0mself\u001b[0m\u001b[0;34m.\u001b[0m\u001b[0m_bad_message_length\u001b[0m\u001b[0;34m(\u001b[0m\u001b[0;34m)\u001b[0m\u001b[0;34m\u001b[0m\u001b[0;34m\u001b[0m\u001b[0m\n",
      "\u001b[0;32m~/anaconda3/lib/python3.8/multiprocessing/connection.py\u001b[0m in \u001b[0;36m_recv_bytes\u001b[0;34m(self, maxsize)\u001b[0m\n\u001b[1;32m    412\u001b[0m \u001b[0;34m\u001b[0m\u001b[0m\n\u001b[1;32m    413\u001b[0m     \u001b[0;32mdef\u001b[0m \u001b[0m_recv_bytes\u001b[0m\u001b[0;34m(\u001b[0m\u001b[0mself\u001b[0m\u001b[0;34m,\u001b[0m \u001b[0mmaxsize\u001b[0m\u001b[0;34m=\u001b[0m\u001b[0;32mNone\u001b[0m\u001b[0;34m)\u001b[0m\u001b[0;34m:\u001b[0m\u001b[0;34m\u001b[0m\u001b[0;34m\u001b[0m\u001b[0m\n\u001b[0;32m--> 414\u001b[0;31m         \u001b[0mbuf\u001b[0m \u001b[0;34m=\u001b[0m \u001b[0mself\u001b[0m\u001b[0;34m.\u001b[0m\u001b[0m_recv\u001b[0m\u001b[0;34m(\u001b[0m\u001b[0;36m4\u001b[0m\u001b[0;34m)\u001b[0m\u001b[0;34m\u001b[0m\u001b[0;34m\u001b[0m\u001b[0m\n\u001b[0m\u001b[1;32m    415\u001b[0m         \u001b[0msize\u001b[0m\u001b[0;34m,\u001b[0m \u001b[0;34m=\u001b[0m \u001b[0mstruct\u001b[0m\u001b[0;34m.\u001b[0m\u001b[0munpack\u001b[0m\u001b[0;34m(\u001b[0m\u001b[0;34m\"!i\"\u001b[0m\u001b[0;34m,\u001b[0m \u001b[0mbuf\u001b[0m\u001b[0;34m.\u001b[0m\u001b[0mgetvalue\u001b[0m\u001b[0;34m(\u001b[0m\u001b[0;34m)\u001b[0m\u001b[0;34m)\u001b[0m\u001b[0;34m\u001b[0m\u001b[0;34m\u001b[0m\u001b[0m\n\u001b[1;32m    416\u001b[0m         \u001b[0;32mif\u001b[0m \u001b[0msize\u001b[0m \u001b[0;34m==\u001b[0m \u001b[0;34m-\u001b[0m\u001b[0;36m1\u001b[0m\u001b[0;34m:\u001b[0m\u001b[0;34m\u001b[0m\u001b[0;34m\u001b[0m\u001b[0m\n",
      "\u001b[0;32m~/anaconda3/lib/python3.8/multiprocessing/connection.py\u001b[0m in \u001b[0;36m_recv\u001b[0;34m(self, size, read)\u001b[0m\n\u001b[1;32m    377\u001b[0m         \u001b[0mremaining\u001b[0m \u001b[0;34m=\u001b[0m \u001b[0msize\u001b[0m\u001b[0;34m\u001b[0m\u001b[0;34m\u001b[0m\u001b[0m\n\u001b[1;32m    378\u001b[0m         \u001b[0;32mwhile\u001b[0m \u001b[0mremaining\u001b[0m \u001b[0;34m>\u001b[0m \u001b[0;36m0\u001b[0m\u001b[0;34m:\u001b[0m\u001b[0;34m\u001b[0m\u001b[0;34m\u001b[0m\u001b[0m\n\u001b[0;32m--> 379\u001b[0;31m             \u001b[0mchunk\u001b[0m \u001b[0;34m=\u001b[0m \u001b[0mread\u001b[0m\u001b[0;34m(\u001b[0m\u001b[0mhandle\u001b[0m\u001b[0;34m,\u001b[0m \u001b[0mremaining\u001b[0m\u001b[0;34m)\u001b[0m\u001b[0;34m\u001b[0m\u001b[0;34m\u001b[0m\u001b[0m\n\u001b[0m\u001b[1;32m    380\u001b[0m             \u001b[0mn\u001b[0m \u001b[0;34m=\u001b[0m \u001b[0mlen\u001b[0m\u001b[0;34m(\u001b[0m\u001b[0mchunk\u001b[0m\u001b[0;34m)\u001b[0m\u001b[0;34m\u001b[0m\u001b[0;34m\u001b[0m\u001b[0m\n\u001b[1;32m    381\u001b[0m             \u001b[0;32mif\u001b[0m \u001b[0mn\u001b[0m \u001b[0;34m==\u001b[0m \u001b[0;36m0\u001b[0m\u001b[0;34m:\u001b[0m\u001b[0;34m\u001b[0m\u001b[0;34m\u001b[0m\u001b[0m\n",
      "\u001b[0;31mKeyboardInterrupt\u001b[0m: "
     ]
    }
   ],
   "source": [
    "all_nw = 40\n",
    "all_wl = 40\n",
    "\n",
    "walk_file_prefix = 'walk_test_REL_simplified_sep_probs'\n",
    "loop_chance = 0\n",
    "num_source = 0\n",
    "\n",
    "initials = {0:'v', 1:'a', 2:'v', 3:'v',4:'f',5:'f', 6:'f', 7:'f', 8:'f', 9:'f', 10:'f'}\n",
    "walk_file_name = biasedwalk.walk_progress(initials, all_nw = all_nw, all_wl = all_wl, num_source = num_source, \n",
    "                                          num_allow_loop = num_allow_loop, walk_file_prefix = walk_file_prefix, \n",
    "                                          loop_chance = loop_chance)"
   ]
  },
  {
   "cell_type": "code",
   "execution_count": null,
   "metadata": {},
   "outputs": [],
   "source": [
    "walk_file_name\n",
    "#emb_walk_final_100_40_0_3_bwV4_s128_w7_n5_mc5"
   ]
  },
  {
   "cell_type": "code",
   "execution_count": null,
   "metadata": {},
   "outputs": [],
   "source": [
    "list_embedding_file = 'GP2VEC_emb_walk_file_40_40_0_0_bwV4_s256_w7_n5_mc5'"
   ]
  },
  {
   "cell_type": "markdown",
   "metadata": {},
   "source": [
    "### Link Prediction"
   ]
  },
  {
   "cell_type": "code",
   "execution_count": null,
   "metadata": {},
   "outputs": [],
   "source": [
    "import imp\n",
    "imp.reload(LP)"
   ]
  },
  {
   "cell_type": "code",
   "execution_count": null,
   "metadata": {},
   "outputs": [],
   "source": [
    "[source_types, target_types]"
   ]
  },
  {
   "cell_type": "code",
   "execution_count": null,
   "metadata": {},
   "outputs": [],
   "source": [
    "lp = LP.LinkPrediction(data_path, train_file, node_file, relation_file, type_file\n",
    "                , list_embedding_file ,test_file, result_path, \n",
    "                    [source_types, target_types])"
   ]
  },
  {
   "cell_type": "code",
   "execution_count": null,
   "metadata": {},
   "outputs": [],
   "source": [
    "#lp.draw_pca_of_all_nodes() #this code runs the pca not need but you can still run it if you want to see"
   ]
  },
  {
   "cell_type": "code",
   "execution_count": null,
   "metadata": {},
   "outputs": [],
   "source": [
    "ver_name = list_embedding_file[19:] + '.png'\n",
    "\n",
    "scoring = ('accuracy', 'f1', 'roc_auc') # accuracy, f1_micro, roc_auc, roc_auc_ovr\n",
    "\n",
    "lp.train_model_cross_validation('newton-cg', 'ovr', C=1, penalty='l2', cv = 10, ver = ver_name, scoring=scoring)"
   ]
  },
  {
   "cell_type": "code",
   "execution_count": 18,
   "metadata": {},
   "outputs": [
    {
     "name": "stdout",
     "output_type": "stream",
     "text": [
      "__load_test_set| df_test_set: (34428, 10)\n",
      "__load_test_set| unique heads: 6301, unique tails: 1791\n",
      "6413\n",
      "5153\n",
      "5153\n",
      "5153\n",
      "2259\n",
      "2259\n",
      "2259\n",
      "__get_test_set_emb| test set emb list : positive 34421 with 7 errors, negative: 34276, with 114 errors.\n",
      "{False, True}\n",
      "__prepare_test_set_emb| list of test set prepared 68697\n",
      "save_list_of_test_embs| lst: 68697 to save.\n",
      "save_list_of_test_embs| data/test_set_embeddings.csv is saved.\n",
      "__test| 68697 and 68697\n",
      "__test| 256 and 1\n",
      "__AUC_ROC| roc_auc_lr: 0.9576201564877593\n"
     ]
    },
    {
     "name": "stderr",
     "output_type": "stream",
     "text": [
      "/home/kochut/graphpattern2vec_project/graphpattern2vec/link_prediction.py:953: MatplotlibDeprecationWarning: Adding an axes using the same arguments as a previous axes currently reuses the earlier instance.  In a future version, a new instance will always be created and returned.  Meanwhile, this warning can be suppressed, and the future behavior ensured, by passing a unique label to each axes instance.\n",
      "  plt.axes().set_aspect('equal')\n"
     ]
    },
    {
     "data": {
      "image/png": "[encoded data removed]",
      "text/plain": [
       "<Figure size 432x288 with 1 Axes>"
      ]
     },
     "metadata": {
      "needs_background": "light"
     },
     "output_type": "display_data"
    },
    {
     "data": {
      "image/png": "[encoded data removed]",
      "text/plain": [
       "<Figure size 576x504 with 1 Axes>"
      ]
     },
     "metadata": {
      "needs_background": "light"
     },
     "output_type": "display_data"
    },
    {
     "name": "stdout",
     "output_type": "stream",
     "text": [
      "Cutt off is calculated to be 0.9724078496865195\n",
      "[[30708  3568]\n",
      " [ 3583 30838]]\n",
      "The test set, precision: 0.8962971574725339, recall: 0.895906568664478, f1 score: 0.8961018205064872\n",
      "              precision    recall  f1-score   support\n",
      "\n",
      "           0       0.90      0.90      0.90     34276\n",
      "           1       0.90      0.90      0.90     34421\n",
      "\n",
      "    accuracy                           0.90     68697\n",
      "   macro avg       0.90      0.90      0.90     68697\n",
      "weighted avg       0.90      0.90      0.90     68697\n",
      "\n",
      "y_all: 68697, lst_pred_prob: 68697, \n",
      "for_tjur_rs_test is saved!\n"
     ]
    }
   ],
   "source": [
    "ver_name = list_embedding_file[19:] + '_test_set.png'\n",
    "precision, recall, f1_score, model_auc_roc = lp.evaluate_test_set(ver_name, model = 'Logit')"
   ]
  },
  {
   "cell_type": "code",
   "execution_count": null,
   "metadata": {},
   "outputs": [],
   "source": []
  }
 ],
 "metadata": {
  "kernelspec": {
   "display_name": "Python 3",
   "language": "python",
   "name": "python3"
  },
  "language_info": {
   "codemirror_mode": {
    "name": "ipython",
    "version": 3
   },
   "file_extension": ".py",
   "mimetype": "text/x-python",
   "name": "python",
   "nbconvert_exporter": "python",
   "pygments_lexer": "ipython3",
   "version": "3.8.8"
  }
 },
 "nbformat": 4,
 "nbformat_minor": 4
}
